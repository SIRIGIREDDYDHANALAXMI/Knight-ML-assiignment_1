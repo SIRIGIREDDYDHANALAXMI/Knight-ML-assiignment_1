{
  "nbformat": 4,
  "nbformat_minor": 0,
  "metadata": {
    "colab": {
      "name": "KnightML.ipynb",
      "provenance": [],
      "machine_shape": "hm",
      "mount_file_id": "1VbjJzCxi-0q2e6TOZjW1KqCitTLUO5FR",
      "authorship_tag": "ABX9TyNGJUq3HpF77xTYrcbU8WuC",
      "include_colab_link": true
    },
    "kernelspec": {
      "name": "python3",
      "display_name": "Python 3"
    }
  },
  "cells": [
    {
      "cell_type": "markdown",
      "metadata": {
        "id": "view-in-github",
        "colab_type": "text"
      },
      "source": [
        "<a href=\"https://colab.research.google.com/github/SIRIGIREDDYDHANALAXMI/Knight-ML-assiignment_1/blob/master/KnightML.ipynb\" target=\"_parent\"><img src=\"https://colab.research.google.com/assets/colab-badge.svg\" alt=\"Open In Colab\"/></a>"
      ]
    },
    {
      "cell_type": "code",
      "metadata": {
        "id": "P0pzHirBUwde",
        "colab_type": "code",
        "colab": {
          "base_uri": "https://localhost:8080/",
          "height": 70
        },
        "outputId": "1a4dd685-dd73-4597-c31d-613bc70f8bd2"
      },
      "source": [
        "import numpy as np\n",
        "import pandas as pd\n",
        "import matplotlib.pyplot as plt\n",
        "import seaborn as sns"
      ],
      "execution_count": 1,
      "outputs": [
        {
          "output_type": "stream",
          "text": [
            "/usr/local/lib/python3.6/dist-packages/statsmodels/tools/_testing.py:19: FutureWarning: pandas.util.testing is deprecated. Use the functions in the public API at pandas.testing instead.\n",
            "  import pandas.util.testing as tm\n"
          ],
          "name": "stderr"
        }
      ]
    },
    {
      "cell_type": "code",
      "metadata": {
        "id": "WiDrDBIEVFOS",
        "colab_type": "code",
        "colab": {}
      },
      "source": [
        "Train = pd.read_csv(\"//content/drive/My Drive/Knight ML Assignment/Knight ML Assignment/Data/train.csv\")\n",
        "Test = pd.read_csv(\"//content/drive/My Drive/Knight ML Assignment/Knight ML Assignment/Data/test.csv\")"
      ],
      "execution_count": 0,
      "outputs": []
    },
    {
      "cell_type": "code",
      "metadata": {
        "id": "Fh0Ty3eFVWJs",
        "colab_type": "code",
        "colab": {
          "base_uri": "https://localhost:8080/",
          "height": 823
        },
        "outputId": "0e77e85c-2200-4b7f-e102-b93eeedafa55"
      },
      "source": [
        "print(Train.shape)\n",
        "print(Test.shape)\n",
        "print(Train.isnull().sum())\n",
        "print(Test.isnull().sum())\n",
        "print(sns.heatmap(Train.isnull()))"
      ],
      "execution_count": 3,
      "outputs": [
        {
          "output_type": "stream",
          "text": [
            "(82657, 12)\n",
            "(20665, 11)\n",
            "user_name             19393\n",
            "country                  35\n",
            "review_title              0\n",
            "review_description        0\n",
            "designation           23647\n",
            "points                    0\n",
            "price                  5569\n",
            "province                 35\n",
            "region_1              12754\n",
            "region_2              46708\n",
            "winery                    0\n",
            "variety                   0\n",
            "dtype: int64\n",
            "user_name              4738\n",
            "country                   4\n",
            "review_title              0\n",
            "review_description        0\n",
            "designation            5989\n",
            "points                    0\n",
            "price                  1394\n",
            "province                  4\n",
            "region_1               3314\n",
            "region_2              11751\n",
            "winery                    0\n",
            "dtype: int64\n",
            "AxesSubplot(0.125,0.125;0.62x0.755)\n"
          ],
          "name": "stdout"
        },
        {
          "output_type": "display_data",
          "data": {
            "image/png": "[encoded data removed]",
            "text/plain": [
              "<Figure size 432x288 with 2 Axes>"
            ]
          },
          "metadata": {
            "tags": [],
            "needs_background": "light"
          }
        }
      ]
    },
    {
      "cell_type": "code",
      "metadata": {
        "id": "j2Gc9v0sVlnF",
        "colab_type": "code",
        "colab": {}
      },
      "source": [
        "\n",
        "Train['country']=Train['country'].fillna(Train['country'].mode()[0])\n",
        "Train['price']=Train['price'].fillna(Train['price'].mode()[0])\n",
        "Train['province']=Train['province'].fillna(Train['province'].mode()[0])\n",
        "\n",
        "\n",
        "\n",
        "Test['country']=Test['country'].fillna(Test['country'].mode()[0])\n",
        "\n",
        "Test['price']=Test['price'].fillna(Test['price'].mode()[0])\n",
        "Test['province']=Test['province'].fillna(Test['province'].mode()[0])"
      ],
      "execution_count": 0,
      "outputs": []
    },
    {
      "cell_type": "code",
      "metadata": {
        "id": "LI-aWRFNPvr8",
        "colab_type": "code",
        "colab": {}
      },
      "source": [
        "#drop user_is column\n",
        "traindata= Train.drop('user_name',axis=1)\n",
        "traindata= Train.drop('region_2',axis=1)\n",
        "\n"
      ],
      "execution_count": 0,
      "outputs": []
    },
    {
      "cell_type": "code",
      "metadata": {
        "id": "LgYy-BLv9EXQ",
        "colab_type": "code",
        "colab": {}
      },
      "source": [
        "Test = Test.drop('user_name',axis=1)\n",
        "Test = Test.drop('region_2',axis=1)"
      ],
      "execution_count": 0,
      "outputs": []
    },
    {
      "cell_type": "code",
      "metadata": {
        "id": "svoiON4_Wt6g",
        "colab_type": "code",
        "colab": {
          "base_uri": "https://localhost:8080/",
          "height": 386
        },
        "outputId": "1c9dc505-9a2d-49cb-f97f-bb2d71555fc3"
      },
      "source": [
        "print(traindata.dtypes)\n",
        "print(Test.dtypes)"
      ],
      "execution_count": 7,
      "outputs": [
        {
          "output_type": "stream",
          "text": [
            "user_name              object\n",
            "country                object\n",
            "review_title           object\n",
            "review_description     object\n",
            "designation            object\n",
            "points                  int64\n",
            "price                 float64\n",
            "province               object\n",
            "region_1               object\n",
            "winery                 object\n",
            "variety                object\n",
            "dtype: object\n",
            "country                object\n",
            "review_title           object\n",
            "review_description     object\n",
            "designation            object\n",
            "points                  int64\n",
            "price                 float64\n",
            "province               object\n",
            "region_1               object\n",
            "winery                 object\n",
            "dtype: object\n"
          ],
          "name": "stdout"
        }
      ]
    },
    {
      "cell_type": "code",
      "metadata": {
        "id": "ZWKee2l0W7dT",
        "colab_type": "code",
        "colab": {
          "base_uri": "https://localhost:8080/",
          "height": 67
        },
        "outputId": "5da12f1e-ea7f-42eb-89c7-71a356bcf369"
      },
      "source": [
        "Test.columns"
      ],
      "execution_count": 8,
      "outputs": [
        {
          "output_type": "execute_result",
          "data": {
            "text/plain": [
              "Index(['country', 'review_title', 'review_description', 'designation',\n",
              "       'points', 'price', 'province', 'region_1', 'winery'],\n",
              "      dtype='object')"
            ]
          },
          "metadata": {
            "tags": []
          },
          "execution_count": 8
        }
      ]
    },
    {
      "cell_type": "code",
      "metadata": {
        "id": "26eq_igDQ2iY",
        "colab_type": "code",
        "colab": {}
      },
      "source": [
        "\n",
        "tracols = ['country','review_title','review_description','designation','province','region_1','winery']#region_2\n",
        "for i in tracols:\n",
        "  traindata[i]= traindata[i].astype('category')\n",
        "\n",
        "  Test[i]= Test[i].astype('category')\n"
      ],
      "execution_count": 0,
      "outputs": []
    },
    {
      "cell_type": "code",
      "metadata": {
        "id": "i082zhYwTBTJ",
        "colab_type": "code",
        "colab": {
          "base_uri": "https://localhost:8080/",
          "height": 386
        },
        "outputId": "1aff8506-c182-4dbb-b27b-08eac03a8ae4"
      },
      "source": [
        "\n",
        "print(traindata.dtypes)\n",
        "print(Test.dtypes)"
      ],
      "execution_count": 10,
      "outputs": [
        {
          "output_type": "stream",
          "text": [
            "user_name               object\n",
            "country               category\n",
            "review_title          category\n",
            "review_description    category\n",
            "designation           category\n",
            "points                   int64\n",
            "price                  float64\n",
            "province              category\n",
            "region_1              category\n",
            "winery                category\n",
            "variety                 object\n",
            "dtype: object\n",
            "country               category\n",
            "review_title          category\n",
            "review_description    category\n",
            "designation           category\n",
            "points                   int64\n",
            "price                  float64\n",
            "province              category\n",
            "region_1              category\n",
            "winery                category\n",
            "dtype: object\n"
          ],
          "name": "stdout"
        }
      ]
    },
    {
      "cell_type": "code",
      "metadata": {
        "id": "ZDyJcMmJTUrM",
        "colab_type": "code",
        "colab": {}
      },
      "source": [
        "from sklearn.model_selection import train_test_split,cross_val_score\n",
        "from sklearn.feature_extraction.text import CountVectorizer,TfidfVectorizer\n",
        "from sklearn.preprocessing import LabelBinarizer"
      ],
      "execution_count": 0,
      "outputs": []
    },
    {
      "cell_type": "code",
      "metadata": {
        "id": "RNuFHh_oVvrt",
        "colab_type": "code",
        "colab": {
          "base_uri": "https://localhost:8080/",
          "height": 151
        },
        "outputId": "b5fc1f66-bf2d-46d2-efe9-837134941ea8"
      },
      "source": [
        "print(traindata['variety'].isnull().sum())\n",
        "print(traindata['variety'].unique())"
      ],
      "execution_count": 12,
      "outputs": [
        {
          "output_type": "stream",
          "text": [
            "0\n",
            "['Chardonnay' 'Red Blend' 'Nebbiolo' 'Bordeaux-style White Blend' 'Malbec'\n",
            " 'Cabernet Sauvignon' 'Zinfandel' 'Pinot Noir' 'Sauvignon Blanc' 'Gamay'\n",
            " 'Grüner Veltliner' 'Bordeaux-style Red Blend' 'Sangiovese' 'Syrah'\n",
            " 'White Blend' 'Cabernet Franc' 'Portuguese Red' 'Portuguese White'\n",
            " 'Rhône-style Red Blend' 'Rosé' 'Champagne Blend' 'Merlot' 'Riesling'\n",
            " 'Sparkling Blend' 'Pinot Grigio' 'Tempranillo' 'Pinot Gris'\n",
            " 'Gewürztraminer']\n"
          ],
          "name": "stdout"
        }
      ]
    },
    {
      "cell_type": "code",
      "metadata": {
        "colab_type": "code",
        "outputId": "4da67e9e-4053-4c1f-d997-4940dc8c8531",
        "id": "uFsqYIA_LX0s",
        "colab": {
          "base_uri": "https://localhost:8080/",
          "height": 34
        }
      },
      "source": [
        "traindata[\"variety\"] = traindata[\"variety\"].map({'Chardonnay':0, 'Red Blend':1, 'Nebbiolo':2, 'Bordeaux-style White Blend':3, 'Malbec':4,\n",
        " 'Cabernet Sauvignon':5, 'Zinfandel':6, 'Pinot Noir':7, 'Sauvignon Blanc':8, 'Gamay':9,\n",
        " 'Grüner Veltliner':10, 'Bordeaux-style Red Blend':11, 'Sangiovese':12, 'Syrah':13,\n",
        " 'White Blend':14, 'Cabernet Franc':15, 'Portuguese Red':16, 'Portuguese White':17,\n",
        " 'Rhône-style Red Blend':18, 'Rosé':19, 'Champagne Blend':20, 'Merlot':21 ,'Riesling':22,\n",
        " 'Sparkling Blend':23, 'Pinot Grigio':24, 'Tempranillo':25, 'Pinot Gris':26,\n",
        " 'Gewürztraminer':27})\n",
        "    \n",
        "     \n",
        "print(traindata['variety'].isnull().sum())"
      ],
      "execution_count": 13,
      "outputs": [
        {
          "output_type": "stream",
          "text": [
            "0\n"
          ],
          "name": "stdout"
        }
      ]
    },
    {
      "cell_type": "code",
      "metadata": {
        "id": "fElpt94yTt44",
        "colab_type": "code",
        "colab": {}
      },
      "source": [
        "le=LabelBinarizer(sparse_output='True')\n",
        "traindata['country']=traindata['country'].astype(str)\n",
        "Test['country']=Test['country'].astype(str)\n",
        "country= le.fit_transform(traindata['country'])\n",
        "tescountry= le.fit_transform(Test['country'])"
      ],
      "execution_count": 0,
      "outputs": []
    },
    {
      "cell_type": "code",
      "metadata": {
        "id": "nodj5s1U717B",
        "colab_type": "code",
        "colab": {}
      },
      "source": [
        "from sklearn.feature_extraction.text import CountVectorizer\n",
        "cv= CountVectorizer()\n",
        "winery = cv.fit_transform(traindata['winery'].values.astype('U'))\n",
        "province = cv.fit_transform(traindata['province'].values.astype('U'))\n",
        "designation = cv.fit_transform(traindata['designation'].values.astype('U'))\n",
        "region1= cv.fit_transform(traindata['region_1'].values.astype('U'))\n",
        "\n",
        "\n",
        "teswinery = cv.fit_transform(Test['winery'].values.astype('U'))\n",
        "tesprovince = cv.fit_transform(Test['province'].values.astype('U'))\n",
        "tesdesignation = cv.fit_transform(Test['designation'].values.astype('U'))\n",
        "tesregion1= cv.fit_transform(Test['region_1'].values.astype('U'))\n"
      ],
      "execution_count": 0,
      "outputs": []
    },
    {
      "cell_type": "code",
      "metadata": {
        "id": "7virdMzwZMme",
        "colab_type": "code",
        "colab": {}
      },
      "source": [
        "from sklearn.feature_extraction.text import TfidfVectorizer\n",
        "tfv = TfidfVectorizer(ngram_range = (1,3) , stop_words = \"english\")\n",
        "title= tfv.fit_transform(traindata['review_title'].values.astype('U'))\n",
        "description = tfv.fit_transform(traindata['review_description'].values.astype('U'))"
      ],
      "execution_count": 0,
      "outputs": []
    },
    {
      "cell_type": "code",
      "metadata": {
        "id": "q0s2mbejZ3CG",
        "colab_type": "code",
        "colab": {}
      },
      "source": [
        "from scipy.sparse import csr_matrix, hstack\n",
        "points=pd.get_dummies(traindata['points'],sparse='True').values\n",
        "price =pd.get_dummies(traindata['price'],sparse='True').values\n"
      ],
      "execution_count": 0,
      "outputs": []
    },
    {
      "cell_type": "code",
      "metadata": {
        "id": "U8144pZO-79E",
        "colab_type": "code",
        "colab": {}
      },
      "source": [
        "frame = hstack((region1,province,winery,designation,title,description,points,price,country),format='csr')#region_2\n",
        "temp = np.array(np.clip(frame.getnnz(axis=0) - 1, 0, 1), dtype=bool)\n",
        "frame=frame[:,temp]"
      ],
      "execution_count": 0,
      "outputs": []
    },
    {
      "cell_type": "code",
      "metadata": {
        "id": "8ILYnsK8a6zG",
        "colab_type": "code",
        "colab": {}
      },
      "source": [
        "testitle= tfv.fit_transform(Test['review_title'].values.astype('U'))\n",
        "tesdescription = tfv.fit_transform(Test['review_description'].values.astype('U'))\n",
        "\n",
        "tespoints=pd.get_dummies(Test['points'],sparse='True').values\n",
        "tesprice =pd.get_dummies(Test['price'],sparse='True').values"
      ],
      "execution_count": 0,
      "outputs": []
    },
    {
      "cell_type": "code",
      "metadata": {
        "id": "ID71XJ5QXGZL",
        "colab_type": "code",
        "colab": {}
      },
      "source": [
        "testframe = hstack((tesregion1,tesprovince,teswinery,tesdesignation,testitle,tesdescription,tespoints,tesprice,tescountry)).tocsr()\n",
        "testemp = np.array(np.clip(testframe.getnnz(axis=0) - 1, 0, 1), dtype=bool)\n",
        "testframe=testframe[:,testemp]"
      ],
      "execution_count": 0,
      "outputs": []
    },
    {
      "cell_type": "code",
      "metadata": {
        "id": "9f6Ihc3DffSY",
        "colab_type": "code",
        "colab": {
          "base_uri": "https://localhost:8080/",
          "height": 34
        },
        "outputId": "e8f187f9-83f5-45ab-c380-c9b67ef58197"
      },
      "source": [
        "print(testitle.shape)\n",
        "traindata['variety'] = traindata['variety'].astype(int)"
      ],
      "execution_count": 21,
      "outputs": [
        {
          "output_type": "stream",
          "text": [
            "(20665, 130055)\n"
          ],
          "name": "stdout"
        }
      ]
    },
    {
      "cell_type": "code",
      "metadata": {
        "id": "nSU30oATtfmh",
        "colab_type": "code",
        "colab": {
          "base_uri": "https://localhost:8080/",
          "height": 252
        },
        "outputId": "f23b0ca3-76f7-4af3-f31f-242e366e3fcc"
      },
      "source": [
        "x_train, x_test, y_train, y_test = train_test_split(traindata.iloc[:,:-1],traindata.iloc[:,-1:],test_size= 0.3)\n",
        "print(y_train)"
      ],
      "execution_count": 22,
      "outputs": [
        {
          "output_type": "stream",
          "text": [
            "       variety\n",
            "35004        0\n",
            "16129        7\n",
            "77186        0\n",
            "18520        7\n",
            "23454        1\n",
            "...        ...\n",
            "81689       17\n",
            "62209       19\n",
            "25232        7\n",
            "15676        7\n",
            "23520        8\n",
            "\n",
            "[57859 rows x 1 columns]\n"
          ],
          "name": "stdout"
        }
      ]
    },
    {
      "cell_type": "code",
      "metadata": {
        "id": "MEHDijay9qWk",
        "colab_type": "code",
        "colab": {
          "base_uri": "https://localhost:8080/",
          "height": 34
        },
        "outputId": "21494e3e-02f4-4079-f5d8-1e861cf4ee17"
      },
      "source": [
        "print(y_train['variety'].dtype)"
      ],
      "execution_count": 23,
      "outputs": [
        {
          "output_type": "stream",
          "text": [
            "int64\n"
          ],
          "name": "stdout"
        }
      ]
    },
    {
      "cell_type": "code",
      "metadata": {
        "id": "G_8Q-9d_xKVP",
        "colab_type": "code",
        "colab": {
          "base_uri": "https://localhost:8080/",
          "height": 34
        },
        "outputId": "09f7bb84-ba5b-44cf-ba1e-d1abac70d44d"
      },
      "source": [
        "rows= x_train.size\n",
        "print(x_train.shape[0])"
      ],
      "execution_count": 24,
      "outputs": [
        {
          "output_type": "stream",
          "text": [
            "57859\n"
          ],
          "name": "stdout"
        }
      ]
    },
    {
      "cell_type": "code",
      "metadata": {
        "id": "N6cHxtTexaKF",
        "colab_type": "code",
        "colab": {}
      },
      "source": [
        "x_train = frame[:x_train.shape[0]]\n",
        "x_test = frame[x_train.shape[0]:]\n"
      ],
      "execution_count": 0,
      "outputs": []
    },
    {
      "cell_type": "code",
      "metadata": {
        "id": "EISUGlyJbFL1",
        "colab_type": "code",
        "colab": {
          "base_uri": "https://localhost:8080/",
          "height": 84
        },
        "outputId": "45c36fd8-13ba-4f02-84a1-ac492fa4e47b"
      },
      "source": [
        "print(traindata.columns)"
      ],
      "execution_count": 26,
      "outputs": [
        {
          "output_type": "stream",
          "text": [
            "Index(['user_name', 'country', 'review_title', 'review_description',\n",
            "       'designation', 'points', 'price', 'province', 'region_1', 'winery',\n",
            "       'variety'],\n",
            "      dtype='object')\n"
          ],
          "name": "stdout"
        }
      ]
    },
    {
      "cell_type": "code",
      "metadata": {
        "id": "B_xvQDA_4Qtf",
        "colab_type": "code",
        "colab": {
          "base_uri": "https://localhost:8080/",
          "height": 50
        },
        "outputId": "2cf7e437-7489-4b04-e431-549d8cc511a1"
      },
      "source": [
        "print(y_train.shape)\n",
        "print(max(y_train['variety']))"
      ],
      "execution_count": 27,
      "outputs": [
        {
          "output_type": "stream",
          "text": [
            "(57859, 1)\n",
            "27\n"
          ],
          "name": "stdout"
        }
      ]
    },
    {
      "cell_type": "code",
      "metadata": {
        "id": "9Ia3BxnRD9LB",
        "colab_type": "code",
        "colab": {
          "base_uri": "https://localhost:8080/",
          "height": 34
        },
        "outputId": "a342e150-97ff-4b32-8bde-23d7068064db"
      },
      "source": [
        "x_train.shape"
      ],
      "execution_count": 28,
      "outputs": [
        {
          "output_type": "execute_result",
          "data": {
            "text/plain": [
              "(57859, 567379)"
            ]
          },
          "metadata": {
            "tags": []
          },
          "execution_count": 28
        }
      ]
    },
    {
      "cell_type": "code",
      "metadata": {
        "id": "nEr5dDJC7_cf",
        "colab_type": "code",
        "colab": {}
      },
      "source": [
        "\n",
        "from lightgbm import LGBMClassifier\n"
      ],
      "execution_count": 0,
      "outputs": []
    },
    {
      "cell_type": "code",
      "metadata": {
        "id": "vXt65B8-b1LW",
        "colab_type": "code",
        "colab": {
          "base_uri": "https://localhost:8080/",
          "height": 118
        },
        "outputId": "d53371e0-6926-4f2f-af4c-ee4f165b0d35"
      },
      "source": [
        "model = LGBMClassifier()\n",
        "\n",
        "model.fit(x_train, y_train['variety'])"
      ],
      "execution_count": 30,
      "outputs": [
        {
          "output_type": "execute_result",
          "data": {
            "text/plain": [
              "LGBMClassifier(boosting_type='gbdt', class_weight=None, colsample_bytree=1.0,\n",
              "               importance_type='split', learning_rate=0.1, max_depth=-1,\n",
              "               min_child_samples=20, min_child_weight=0.001, min_split_gain=0.0,\n",
              "               n_estimators=100, n_jobs=-1, num_leaves=31, objective=None,\n",
              "               random_state=None, reg_alpha=0.0, reg_lambda=0.0, silent=True,\n",
              "               subsample=1.0, subsample_for_bin=200000, subsample_freq=0)"
            ]
          },
          "metadata": {
            "tags": []
          },
          "execution_count": 30
        }
      ]
    },
    {
      "cell_type": "code",
      "metadata": {
        "id": "7YQLxY2RtfQn",
        "colab_type": "code",
        "colab": {}
      },
      "source": [
        "y_pred= model.predict(x_test)"
      ],
      "execution_count": 0,
      "outputs": []
    },
    {
      "cell_type": "code",
      "metadata": {
        "id": "Hmk3__t9ublm",
        "colab_type": "code",
        "colab": {
          "base_uri": "https://localhost:8080/",
          "height": 50
        },
        "outputId": "0af31b0d-4874-421b-8545-90ba850934fd"
      },
      "source": [
        "print(y_pred.astype(int))\n",
        "print(y_pred)"
      ],
      "execution_count": 32,
      "outputs": [
        {
          "output_type": "stream",
          "text": [
            "[ 7  7  5 ...  0 11  1]\n",
            "[ 7  7  5 ...  0 11  1]\n"
          ],
          "name": "stdout"
        }
      ]
    },
    {
      "cell_type": "code",
      "metadata": {
        "id": "P4CE-ECy_Eqf",
        "colab_type": "code",
        "colab": {
          "base_uri": "https://localhost:8080/",
          "height": 50
        },
        "outputId": "9896a9c8-4fce-4430-e6b6-d8a9ee1bd7e7"
      },
      "source": [
        "print(y_pred.shape)\n",
        "print(max(y_pred))"
      ],
      "execution_count": 33,
      "outputs": [
        {
          "output_type": "stream",
          "text": [
            "(24798,)\n",
            "27\n"
          ],
          "name": "stdout"
        }
      ]
    },
    {
      "cell_type": "code",
      "metadata": {
        "id": "1WkSXo4_ufYk",
        "colab_type": "code",
        "colab": {
          "base_uri": "https://localhost:8080/",
          "height": 269
        },
        "outputId": "50afb657-fb21-4ad8-b153-64dd9b8165ab"
      },
      "source": [
        "print(y_test)\n",
        "print(max(y_test['variety']))"
      ],
      "execution_count": 34,
      "outputs": [
        {
          "output_type": "stream",
          "text": [
            "       variety\n",
            "51054       22\n",
            "12231        7\n",
            "71641        1\n",
            "69555       11\n",
            "64129       11\n",
            "...        ...\n",
            "78222        1\n",
            "43439       26\n",
            "59264        5\n",
            "10514       12\n",
            "77152        2\n",
            "\n",
            "[24798 rows x 1 columns]\n",
            "27\n"
          ],
          "name": "stdout"
        }
      ]
    },
    {
      "cell_type": "code",
      "metadata": {
        "id": "rdqbXmMY__9g",
        "colab_type": "code",
        "colab": {
          "base_uri": "https://localhost:8080/",
          "height": 34
        },
        "outputId": "f9fd0077-7174-4a97-cbd7-93d7af5ae9ff"
      },
      "source": [
        "from sklearn.metrics import accuracy_score\n",
        "ac=accuracy_score(y_test, y_pred)\n",
        "print(ac)"
      ],
      "execution_count": 35,
      "outputs": [
        {
          "output_type": "stream",
          "text": [
            "0.11698524074522139\n"
          ],
          "name": "stdout"
        }
      ]
    },
    {
      "cell_type": "code",
      "metadata": {
        "id": "1ZOLYEbNPaZp",
        "colab_type": "code",
        "colab": {
          "base_uri": "https://localhost:8080/",
          "height": 34
        },
        "outputId": "6bfb5d35-2d20-4bd6-994f-4568446791fa"
      },
      "source": [
        "from sklearn.metrics import mean_squared_error\n",
        "msle = mean_squared_error(y_test, y_pred)\n",
        "\n",
        "from math import sqrt\n",
        "rmsle = np.sqrt(msle)\n",
        "print(rmsle)"
      ],
      "execution_count": 36,
      "outputs": [
        {
          "output_type": "stream",
          "text": [
            "9.786158217228724\n"
          ],
          "name": "stdout"
        }
      ]
    },
    {
      "cell_type": "code",
      "metadata": {
        "id": "s5germRZPqC6",
        "colab_type": "code",
        "colab": {
          "base_uri": "https://localhost:8080/",
          "height": 151
        },
        "outputId": "1a9740ae-5b14-4ae3-bc06-deee68f2907d"
      },
      "source": [
        "from sklearn.ensemble import RandomForestClassifier\n",
        "clf = RandomForestClassifier(max_depth=8, random_state=0)\n",
        "clf.fit(x_train, y_train['variety'])"
      ],
      "execution_count": 37,
      "outputs": [
        {
          "output_type": "execute_result",
          "data": {
            "text/plain": [
              "RandomForestClassifier(bootstrap=True, ccp_alpha=0.0, class_weight=None,\n",
              "                       criterion='gini', max_depth=8, max_features='auto',\n",
              "                       max_leaf_nodes=None, max_samples=None,\n",
              "                       min_impurity_decrease=0.0, min_impurity_split=None,\n",
              "                       min_samples_leaf=1, min_samples_split=2,\n",
              "                       min_weight_fraction_leaf=0.0, n_estimators=100,\n",
              "                       n_jobs=None, oob_score=False, random_state=0, verbose=0,\n",
              "                       warm_start=False)"
            ]
          },
          "metadata": {
            "tags": []
          },
          "execution_count": 37
        }
      ]
    },
    {
      "cell_type": "code",
      "metadata": {
        "id": "1MqL01oNQB5t",
        "colab_type": "code",
        "colab": {}
      },
      "source": [
        "clf_pred= clf.predict(x_test)"
      ],
      "execution_count": 0,
      "outputs": []
    },
    {
      "cell_type": "code",
      "metadata": {
        "id": "NuJ1KLrvQKVN",
        "colab_type": "code",
        "colab": {
          "base_uri": "https://localhost:8080/",
          "height": 34
        },
        "outputId": "1e241cc4-00ec-44e9-d33d-c6d50005856d"
      },
      "source": [
        "print(clf_pred)"
      ],
      "execution_count": 39,
      "outputs": [
        {
          "output_type": "stream",
          "text": [
            "[7 7 7 ... 7 7 7]\n"
          ],
          "name": "stdout"
        }
      ]
    },
    {
      "cell_type": "code",
      "metadata": {
        "id": "VsMtiZTMblkJ",
        "colab_type": "code",
        "colab": {
          "base_uri": "https://localhost:8080/",
          "height": 34
        },
        "outputId": "8c3ee504-7368-4046-bda5-c8a81e9249e4"
      },
      "source": [
        "print(clf_pred)"
      ],
      "execution_count": 40,
      "outputs": [
        {
          "output_type": "stream",
          "text": [
            "[7 7 7 ... 7 7 7]\n"
          ],
          "name": "stdout"
        }
      ]
    },
    {
      "cell_type": "code",
      "metadata": {
        "id": "7KmInnVMQRuw",
        "colab_type": "code",
        "colab": {
          "base_uri": "https://localhost:8080/",
          "height": 34
        },
        "outputId": "eb2c93d7-a7ef-4623-c659-27b1e27466a1"
      },
      "source": [
        "from sklearn.metrics import accuracy_score\n",
        "ac=accuracy_score(y_test, clf_pred)\n",
        "print(ac)"
      ],
      "execution_count": 41,
      "outputs": [
        {
          "output_type": "stream",
          "text": [
            "0.1312605855310912\n"
          ],
          "name": "stdout"
        }
      ]
    },
    {
      "cell_type": "code",
      "metadata": {
        "id": "5Jy5-sX1QYAg",
        "colab_type": "code",
        "colab": {
          "base_uri": "https://localhost:8080/",
          "height": 34
        },
        "outputId": "5cf110c6-88ea-49bd-8fb2-b5fb6263ffda"
      },
      "source": [
        "from sklearn.metrics import mean_squared_error\n",
        "msle = mean_squared_error(y_test, clf_pred)\n",
        "\n",
        "from math import sqrt\n",
        "rmsle = np.sqrt(msle)\n",
        "print(rmsle)\n"
      ],
      "execution_count": 42,
      "outputs": [
        {
          "output_type": "stream",
          "text": [
            "8.25643770702405\n"
          ],
          "name": "stdout"
        }
      ]
    },
    {
      "cell_type": "code",
      "metadata": {
        "id": "eTxYZCH2uBPD",
        "colab_type": "code",
        "colab": {}
      },
      "source": [
        "from sklearn.base import BaseEstimator, TransformerMixin, RegressorMixin, clone\n",
        "class AveragingModels(BaseEstimator, RegressorMixin, TransformerMixin):\n",
        "    def __init__(self, models):\n",
        "        self.models = models\n",
        "        \n",
        "    # we define clones of the original models to fit the data in\n",
        "    def fit(self, X, y):\n",
        "        self.models_ = [clone(x) for x in self.models]\n",
        "        \n",
        "        # Train cloned base models\n",
        "        for model in self.models_:\n",
        "            model.fit(X, y)\n",
        "\n",
        "        return self\n",
        "    \n",
        "    #Now we do the predictions for cloned models and average them\n",
        "    def predict(self, X):\n",
        "        predictions = np.column_stack([\n",
        "            model.predict(X) for model in self.models_\n",
        "        ])\n",
        "        return np.mean(predictions, axis=1)   "
      ],
      "execution_count": 0,
      "outputs": []
    },
    {
      "cell_type": "code",
      "metadata": {
        "id": "beUHMyI6uESe",
        "colab_type": "code",
        "colab": {}
      },
      "source": [
        "averaged_models = AveragingModels(models = (model,clf))\n",
        "averaged_models.fit(x_train, y_train['variety'])\n",
        "avg_pred= averaged_models.predict(x_test)\n"
      ],
      "execution_count": 0,
      "outputs": []
    },
    {
      "cell_type": "code",
      "metadata": {
        "id": "w2zwsa-91Nf-",
        "colab_type": "code",
        "colab": {
          "base_uri": "https://localhost:8080/",
          "height": 34
        },
        "outputId": "7f32af41-1d56-44b1-fdb5-2c8c1bbc9e26"
      },
      "source": [
        "from sklearn.metrics import accuracy_score\n",
        "ac=accuracy_score(y_test, clf_pred)\n",
        "print(ac)"
      ],
      "execution_count": 45,
      "outputs": [
        {
          "output_type": "stream",
          "text": [
            "0.1312605855310912\n"
          ],
          "name": "stdout"
        }
      ]
    },
    {
      "cell_type": "code",
      "metadata": {
        "id": "KScefvy7vG6R",
        "colab_type": "code",
        "colab": {
          "base_uri": "https://localhost:8080/",
          "height": 34
        },
        "outputId": "b7c348df-087e-4ce9-aacb-f87eed93789f"
      },
      "source": [
        "from sklearn.metrics import mean_squared_error\n",
        "msle = mean_squared_error(y_test, avg_pred)\n",
        "\n",
        "from math import sqrt\n",
        "rmsle = np.sqrt(msle)\n",
        "print(rmsle)"
      ],
      "execution_count": 46,
      "outputs": [
        {
          "output_type": "stream",
          "text": [
            "8.789825317675616\n"
          ],
          "name": "stdout"
        }
      ]
    },
    {
      "cell_type": "code",
      "metadata": {
        "id": "iBXiNdLhGnzR",
        "colab_type": "code",
        "colab": {
          "base_uri": "https://localhost:8080/",
          "height": 252
        },
        "outputId": "bff6f5ab-92cd-4ce0-a017-91c920c77ed2"
      },
      "source": [
        "var= traindata.iloc[:,-1:]\n",
        "print(var)"
      ],
      "execution_count": 47,
      "outputs": [
        {
          "output_type": "stream",
          "text": [
            "       variety\n",
            "0            0\n",
            "1            1\n",
            "2            2\n",
            "3            3\n",
            "4            4\n",
            "...        ...\n",
            "82652       25\n",
            "82653        5\n",
            "82654        9\n",
            "82655       11\n",
            "82656        5\n",
            "\n",
            "[82657 rows x 1 columns]\n"
          ],
          "name": "stdout"
        }
      ]
    },
    {
      "cell_type": "code",
      "metadata": {
        "id": "Ncep09D7SfBu",
        "colab_type": "code",
        "colab": {
          "base_uri": "https://localhost:8080/",
          "height": 437
        },
        "outputId": "ae2c97d0-2bb5-4235-b8ab-0c3c917f2dae"
      },
      "source": [
        "averaged_models.fit(frame,var['variety'] )\n"
      ],
      "execution_count": 48,
      "outputs": [
        {
          "output_type": "execute_result",
          "data": {
            "text/plain": [
              "AveragingModels(models=(LGBMClassifier(boosting_type='gbdt', class_weight=None,\n",
              "                                       colsample_bytree=1.0,\n",
              "                                       importance_type='split',\n",
              "                                       learning_rate=0.1, max_depth=-1,\n",
              "                                       min_child_samples=20,\n",
              "                                       min_child_weight=0.001,\n",
              "                                       min_split_gain=0.0, n_estimators=100,\n",
              "                                       n_jobs=-1, num_leaves=31, objective=None,\n",
              "                                       random_state=None, reg_alpha=0.0,\n",
              "                                       reg_lambda=0.0, silent=True,\n",
              "                                       subsample=1.0, subs...\n",
              "                        RandomForestClassifier(bootstrap=True, ccp_alpha=0.0,\n",
              "                                               class_weight=None,\n",
              "                                               criterion='gini', max_depth=8,\n",
              "                                               max_features='auto',\n",
              "                                               max_leaf_nodes=None,\n",
              "                                               max_samples=None,\n",
              "                                               min_impurity_decrease=0.0,\n",
              "                                               min_impurity_split=None,\n",
              "                                               min_samples_leaf=1,\n",
              "                                               min_samples_split=2,\n",
              "                                               min_weight_fraction_leaf=0.0,\n",
              "                                               n_estimators=100, n_jobs=None,\n",
              "                                               oob_score=False, random_state=0,\n",
              "                                               verbose=0, warm_start=False)))"
            ]
          },
          "metadata": {
            "tags": []
          },
          "execution_count": 48
        }
      ]
    },
    {
      "cell_type": "code",
      "metadata": {
        "id": "17nnxyLwYN8q",
        "colab_type": "code",
        "colab": {
          "base_uri": "https://localhost:8080/",
          "height": 34
        },
        "outputId": "f1b6a4cf-6aaa-4c86-f62c-95d30ee03704"
      },
      "source": [
        "testframe.shape"
      ],
      "execution_count": 49,
      "outputs": [
        {
          "output_type": "execute_result",
          "data": {
            "text/plain": [
              "(20665, 140002)"
            ]
          },
          "metadata": {
            "tags": []
          },
          "execution_count": 49
        }
      ]
    },
    {
      "cell_type": "code",
      "metadata": {
        "id": "ggqyd0QRMxUR",
        "colab_type": "code",
        "colab": {}
      },
      "source": [
        "finalpred= averaged_models.predict(testframe.reshape( (20665,567379), order='C', copy=False))"
      ],
      "execution_count": 0,
      "outputs": []
    },
    {
      "cell_type": "code",
      "metadata": {
        "id": "pESjMmgfjfKr",
        "colab_type": "code",
        "colab": {}
      },
      "source": [
        "finalpred= finalpred.astype(int)"
      ],
      "execution_count": 0,
      "outputs": []
    },
    {
      "cell_type": "code",
      "metadata": {
        "id": "k9N7ipizAttq",
        "colab_type": "code",
        "colab": {
          "base_uri": "https://localhost:8080/",
          "height": 34
        },
        "outputId": "4c1f9ff6-a6c4-4721-8e10-bb3614177abc"
      },
      "source": [
        "print(finalpred)"
      ],
      "execution_count": 60,
      "outputs": [
        {
          "output_type": "stream",
          "text": [
            "[4 4 0 ... 4 4 4]\n"
          ],
          "name": "stdout"
        }
      ]
    },
    {
      "cell_type": "code",
      "metadata": {
        "id": "lP6nsT-wAw8q",
        "colab_type": "code",
        "colab": {
          "base_uri": "https://localhost:8080/",
          "height": 151
        },
        "outputId": "7cc9c0f9-831d-4811-ca96-d1cc0d52657c"
      },
      "source": [
        "result=pd.DataFrame(finalpred)\n",
        "final = pd.concat([ Test, result] ,axis=1)\n",
        "\n",
        "final.to_csv(\"/content/drive/My Drive/knight.csv\",index=False)\n",
        "\n",
        "print(final.head())"
      ],
      "execution_count": 61,
      "outputs": [
        {
          "output_type": "stream",
          "text": [
            "     country  ...  0\n",
            "0         US  ...  4\n",
            "1  Argentina  ...  4\n",
            "2         US  ...  0\n",
            "3  Argentina  ...  4\n",
            "4      Italy  ...  4\n",
            "\n",
            "[5 rows x 10 columns]\n"
          ],
          "name": "stdout"
        }
      ]
    }
  ]
}